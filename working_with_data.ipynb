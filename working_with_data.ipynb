{
 "cells": [
  {
   "cell_type": "code",
   "execution_count": 16,
   "metadata": {
    "collapsed": true
   },
   "outputs": [],
   "source": [
    "import pandas as pd\n",
    "import  pathlib\n"
   ]
  },
  {
   "cell_type": "code",
   "execution_count": 17,
   "outputs": [],
   "source": [
    "#type of cancer to select from table with chromothripsis data\n",
    "cancer_type = \"Prost-AdenoCA\"\n",
    "\n",
    "#path to folder with SVs\n",
    "sv_path = 'data/SVs/'\n",
    "\n",
    "#path to file with metadata\n",
    "metadata_path = \"data/general data/release.csv\"\n",
    "#or download data and choose one of lists\n",
    "#!wget https://dcc.icgc.org/api/v1/download?fn=/PCAWG/donors_and_biospecimens/pcawg-data-releases.xlsx -O release.xlsx --no-check-certificate\n",
    "\n",
    "#path to file with chromothripsis data\n",
    "chromo_path = \"data/general data/stat_chromothripsis.csv\""
   ],
   "metadata": {
    "collapsed": false,
    "pycharm": {
     "name": "#%% Input path to files\n"
    }
   }
  },
  {
   "cell_type": "code",
   "execution_count": 18,
   "outputs": [],
   "source": [
    "#name of column in metadata table with IDs matching SVs file names\n",
    "meta_id_column = \"tumor_wgs_submitter_sample_id\"\n",
    "\n",
    "#names of columns in SVs tables\n",
    "start1 = \"start1\"\n",
    "start2 = \"start2\"\n",
    "end1 = \"end1\"\n",
    "end2 = \"end2\"\n",
    "chrom1 = \"chrom1\"\n",
    "chrom2 = \"chrom2\"\n",
    "sv_id = \"sv_id\"\n",
    "pe_support = \"pe_support\"\n",
    "strand1 = \"strand1\"\n",
    "strand2 = \"strand2\"\n",
    "svclass = \"svclass\"\n",
    "svmethod = \"svmethod\"\n",
    "\n",
    "#name of column with chromothripsis determination result in table with chromothripsis\n",
    "chromo_label = \"chromo_label\""
   ],
   "metadata": {
    "collapsed": false,
    "pycharm": {
     "name": "#%% Input columns names\n"
    }
   }
  },
  {
   "cell_type": "code",
   "execution_count": 19,
   "outputs": [
    {
     "name": "stderr",
     "output_type": "stream",
     "text": [
      "D:\\Programs\\Anaconda\\envs\\scientific\\lib\\site-packages\\IPython\\core\\interactiveshell.py:3444: DtypeWarning: Columns (53) have mixed types.Specify dtype option on import or set low_memory=False.\n",
      "  exec(code_obj, self.user_global_ns, self.user_ns)\n"
     ]
    }
   ],
   "source": [
    "#Load table with metadata\n",
    "donors = pd.read_csv(metadata_path,delimiter=';')\n",
    "\n",
    "#Load table with chromothripsis data\n",
    "stat_chromo = pd.read_csv(chromo_path,delimiter=',')\n",
    "\n",
    "#Load names of fies with SVs\n",
    "SVs_names = []\n",
    "for currentFile in pathlib.Path(sv_path).iterdir():\n",
    "    SVs_names.append(currentFile.name.replace(\".csv\",\"\").__str__())"
   ],
   "metadata": {
    "collapsed": false,
    "pycharm": {
     "name": "#%% Load data\n"
    }
   }
  },
  {
   "cell_type": "code",
   "execution_count": 20,
   "outputs": [
    {
     "name": "stderr",
     "output_type": "stream",
     "text": [
      "C:\\Users\\vit\\AppData\\Local\\Temp/ipykernel_11324/2390061413.py:24: UserWarning: Boolean Series key will be reindexed to match DataFrame index.\n",
      "  chromo_data_for_sv = stat_chromo[stat_chromo.donor_unique_id==donor_unique_id][stat_chromo.histo==cancer_type]\n"
     ]
    }
   ],
   "source": [
    "#future columns of table\n",
    "unique_id_series = []\n",
    "sv_file_id_series = []\n",
    "chrom_1_series = []\n",
    "start1_series=[]\n",
    "chrom2_series = []\n",
    "start2_series = []\n",
    "sv_id_series = []\n",
    "pe_support_series = []\n",
    "strand1_series = []\n",
    "strand2_series = []\n",
    "sv_class_series = []\n",
    "sv_method_series = []\n",
    "chromo_label_1_series = []\n",
    "chromo_label_2_series = []\n",
    "\n",
    "\n",
    "for sv_id_file in SVs_names:\n",
    "    search_id_row=donors.loc[donors[meta_id_column]==sv_id_file]\n",
    "    if (search_id_row.empty):\n",
    "        continue\n",
    "    donor_unique_id = search_id_row.donor_unique_id.iloc[0]\n",
    "    sv_table = pd.read_csv(sv_path+sv_id_file+\".csv\",delimiter='\\t')\n",
    "    chromo_data_for_sv = stat_chromo[stat_chromo.donor_unique_id==donor_unique_id][stat_chromo.histo==cancer_type]\n",
    "    if(chromo_data_for_sv.empty):\n",
    "        continue\n",
    "    for index,row in sv_table.iterrows():\n",
    "        #validate SV position\n",
    "        assert row[start1]+1==row[end1]\n",
    "        assert row[start2]+1==row[end2]\n",
    "\n",
    "        unique_id_series.append(donor_unique_id)\n",
    "        sv_file_id_series.append(sv_id_file)\n",
    "        chrom_1_series.append(row[chrom1])\n",
    "        start1_series.append(row[start1])\n",
    "        chrom2_series.append(row[chrom2])\n",
    "        start2_series.append(row[start2])\n",
    "        sv_id_series.append(row[sv_id])\n",
    "        pe_support_series.append(row[pe_support])\n",
    "        strand1_series.append(row[strand1])\n",
    "        strand2_series.append(row[strand2])\n",
    "        sv_class_series.append(row[svclass])\n",
    "        sv_method_series.append(row[svmethod])\n",
    "\n",
    "        #replace Y chromosome name with X\n",
    "        if(row[chrom1]==\"Y\"):\n",
    "            row[chrom1]=\"X\"\n",
    "        if(row[chrom2]==\"Y\"):\n",
    "            row[chrom2]=\"X\"\n",
    "\n",
    "        chromo_label_1_series.append(chromo_data_for_sv[chromo_data_for_sv.Chr==row[chrom1].__str__()][[chromo_label]].iloc[0].iloc[0])\n",
    "        chromo_label_2_series.append(chromo_data_for_sv[chromo_data_for_sv.Chr==row[chrom2].__str__()][[chromo_label]].iloc[0].iloc[0])\n",
    "result_table = pd.DataFrame({ 'unique_id': unique_id_series,\n",
    "                              'sv_file_id': sv_file_id_series,\n",
    "                              'chrom1': chrom_1_series,\n",
    "                              'start1': start1_series,\n",
    "                              'chrom2': chrom2_series,\n",
    "                              'start2': start2_series,\n",
    "                              'sv_id': sv_id_series,\n",
    "                              'pe_support': pe_support_series,\n",
    "                              'strand1': strand1_series,\n",
    "                              'strand2': strand2_series,\n",
    "                              'svclass': sv_class_series,\n",
    "                              'svmethod': sv_method_series,\n",
    "                              'chromo_label1': chromo_label_1_series,\n",
    "                              'chromo_label2': chromo_label_2_series})\n",
    "result_table.to_csv(\"result.csv\",sep=\"\\t\")\n",
    "\n",
    "\n",
    "\n",
    "\n"
   ],
   "metadata": {
    "collapsed": false,
    "pycharm": {
     "name": "#%% Compile all data to one table\n"
    }
   }
  }
 ],
 "metadata": {
  "kernelspec": {
   "display_name": "Python 3",
   "language": "python",
   "name": "python3"
  },
  "language_info": {
   "codemirror_mode": {
    "name": "ipython",
    "version": 2
   },
   "file_extension": ".py",
   "mimetype": "text/x-python",
   "name": "python",
   "nbconvert_exporter": "python",
   "pygments_lexer": "ipython2",
   "version": "2.7.6"
  }
 },
 "nbformat": 4,
 "nbformat_minor": 0
}